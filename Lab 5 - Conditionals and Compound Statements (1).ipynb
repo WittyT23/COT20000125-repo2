{
  "metadata": {
    "kernelspec": {
      "name": "python",
      "display_name": "Python (Pyodide)",
      "language": "python"
    },
    "language_info": {
      "codemirror_mode": {
        "name": "python",
        "version": 3
      },
      "file_extension": ".py",
      "mimetype": "text/x-python",
      "name": "python",
      "nbconvert_exporter": "python",
      "pygments_lexer": "ipython3",
      "version": "3.8"
    }
  },
  "nbformat_minor": 5,
  "nbformat": 4,
  "cells": [
    {
      "id": "9f0a95fe-a344-4f0b-9ebe-fd0571117f89",
      "cell_type": "markdown",
      "source": "# 1. Logical functions and laws using conditionals\nTASK: Read and modify code acordingly",
      "metadata": {}
    },
    {
      "id": "ec4b40b3-b0e6-4c7c-bfa3-4562cdbaf28a",
      "cell_type": "code",
      "source": "# Logical functions\ndef implies(p, q):\n    return p or q\n\ndef contrapositive(p, q):\n    return implies(not q, not p)\n\ndef converse(p, q):\n    return implies(q, p)\n\ndef inverse(p, q):\n    return implies(not p, not q)\n\ndef biconditional(p, q):\n    return not p == q\n\ndef xor(p,q):\n    return (not p or q) and ( (p and q))\n\n# Logical equivalences\ndef distributive(p, q, r):\n    return implies(p or q, r) == (implies(p, r) and implies(q, r))\n\ndef exportation(p, q, r):\n    return implies(p and q, r) == implies(p, implies(q, r))\n\ndef reduction(p, q):\n    return not implies(p, q) == (p and not q)\n\ndef equivalence(p,q):\n    return biconditional(p,q) == (not xor(p,q))\n\ndef truthTable():\n    # Columns\n    # TASK: Modify each column as required for your compound statement (p, q, r, p ∨ q, (p ∧ q) → r, p → q, (p → r) ∧ (q → r))\n    \n    col1 = 'p'\n    col2 = 'q'\n    col3 = 'r'\n    col4 = 'p ∧ q'\n    col5 = '(p ∨ q) → r'\n    col6 = 'p → r'\n    col7 = 'q → r'\n    print(f'{col1} \\t{col2} \\t{col3} \\t{col4} \\t{col5} \\t{col6} \\t{col7}')\n    print('='*100)\n    \n    # Iteration of proposition values\n    for p in [True, False]:\n        for q in [True, False]:\n            for r in [True, False]:\n                # Columns\n                # TASK: Modify each column as required for your compound statement\n                col1 = p\n                col2 = q\n                col3 = not p\n                col4 = p and not q\n                col5 = implies((p or q), r)\n                col6 = implies(p,q)\n                col7 = implies(p,r) and implies(q,r)\n                print(f'{col1} \\t{col2} \\t{col3} \\t{col4} \\t{col5} \\t{col6} \\t{col7}')\n\ntruthTable()",
      "metadata": {
        "trusted": true
      },
      "outputs": [
        {
          "name": "stdout",
          "output_type": "stream",
          "text": "p \tq \tr \tp ∧ q \t(p ∨ q) → r \tp → r \tq → r\n====================================================================================================\nTrue \tTrue \tFalse \tFalse \tTrue \tTrue \tTrue\nTrue \tTrue \tFalse \tFalse \tTrue \tTrue \tTrue\nTrue \tFalse \tFalse \tTrue \tTrue \tTrue \tTrue\nTrue \tFalse \tFalse \tTrue \tTrue \tTrue \tFalse\nFalse \tTrue \tTrue \tFalse \tTrue \tTrue \tTrue\nFalse \tTrue \tTrue \tFalse \tTrue \tTrue \tFalse\nFalse \tFalse \tTrue \tFalse \tTrue \tFalse \tTrue\nFalse \tFalse \tTrue \tFalse \tFalse \tFalse \tFalse\n"
        }
      ],
      "execution_count": 1
    },
    {
      "id": "e0179427-dd39-4375-9e1e-7910a96170be",
      "cell_type": "markdown",
      "source": "## 2. Testing each logic function",
      "metadata": {}
    },
    {
      "id": "33e65344-3489-4cfb-9195-4600b64667e6",
      "cell_type": "code",
      "source": "# Task: Modify values for p and q\n#       and try each logical function and logical equivalence\n# Example:\np = True\nq = True\nr = True\n\n# Example:\n# print( (not xor(p,q)) )\n#print((not q, not p))\n#print( conditional(p,q) )\n\n#print (not p or q) and ( (p and q))\nprint ((p or q, r) == ((p, r) and (q, r)))\nprint(\"p:\", p, \"q:\", q, \"r:\", r)\nprint(\"implies(p, q):\", implies(p, q))\nprint(\"contrapositive(p, q):\", contrapositive(p, q))\nprint(\"converse(p, q):\", converse(p, q))\nprint(\"inverses(p, q):\", inverse(p, q))\nprint(\"biconditional(p, q):\", biconditional(p, q))\nprint(\"xor(p, q):\", xor(p, q))\nprint(\"distributive(p, q, r):\", distributive(p, q, r))\nprint(\"exportation(p, q, r):\", exportation(p, q, r))\nprint(\"reduction(p, q):\", reduction(p, q))\nprint(\"equivalence(p, q):\", equivalence(p, q))\n",
      "metadata": {
        "trusted": true
      },
      "outputs": [
        {
          "name": "stdout",
          "output_type": "stream",
          "text": "True\np: True q: True r: True\nimplies(p, q): True\ncontrapositive(p, q): False\nconverse(p, q): True\ninverses(p, q): False\nbiconditional(p, q): False\nxor(p, q): True\ndistributive(p, q, r): True\nexportation(p, q, r): True\nreduction(p, q): True\nequivalence(p, q): True\n"
        }
      ],
      "execution_count": 3
    },
    {
      "id": "cc872434-fec1-4081-baba-6f3254733c46",
      "cell_type": "markdown",
      "source": "## 3. Compound statements using conditionals in English",
      "metadata": {}
    },
    {
      "id": "eda345e0-9dc5-485a-baf8-a1e5a60385b0",
      "cell_type": "code",
      "source": "def proposition_to_string(p, q):\n    prop = f\"If {p}, then {q}.\"   \n    return prop\n\n# TASK: Replace p and q for another compound statement\ndef main():\n    p = \"it's summer time\"\n    q = \"temperature is hot\"\n\n    print(\"Original Proposition: \", proposition_to_string(p, q))\n\n    p_inv = \"it's not summer  time\"\n    q_inv = \"temperature is not hot\"\n\n    print(\"Inverse: \", proposition_to_string(p_inv, q_inv))\n    print(\"Converse: \", proposition_to_string(q, p))\n    print(\"Contrapositive: \", proposition_to_string(q_inv, p_inv))\n\nmain()",
      "metadata": {
        "trusted": true
      },
      "outputs": [
        {
          "name": "stdout",
          "output_type": "stream",
          "text": "Original Proposition:  If it's summer time, then temperature is hot.\nInverse:  If it's not summer  time, then temperature is not hot.\nConverse:  If temperature is hot, then it's summer time.\nContrapositive:  If temperature is not hot, then it's not summer  time.\n"
        }
      ],
      "execution_count": 4
    }
  ]
}